{
 "cells": [
  {
   "cell_type": "markdown",
   "metadata": {},
   "source": [
    "**Employee Attrition Analysis**\n",
    "\n",
    "Author: Zhengyang Xu"
   ]
  },
  {
   "cell_type": "code",
   "execution_count": 168,
   "metadata": {},
   "outputs": [],
   "source": [
    "import pandas as pd\n",
    "import matplotlib.pyplot as plt\n",
    "import numpy as np\n",
    "import seaborn as sns"
   ]
  },
  {
   "cell_type": "code",
   "execution_count": 3,
   "metadata": {},
   "outputs": [],
   "source": [
    "df = pd.read_csv('employee_attrition.csv')"
   ]
  },
  {
   "cell_type": "markdown",
   "metadata": {},
   "source": [
    "## Data Preprocessing"
   ]
  },
  {
   "cell_type": "code",
   "execution_count": 551,
   "metadata": {},
   "outputs": [
    {
     "name": "stdout",
     "output_type": "stream",
     "text": [
      "<class 'pandas.core.frame.DataFrame'>\n",
      "RangeIndex: 1176 entries, 0 to 1175\n",
      "Data columns (total 35 columns):\n",
      "Age                         1176 non-null int64\n",
      "Attrition                   1176 non-null object\n",
      "BusinessTravel              1176 non-null object\n",
      "DailyRate                   1176 non-null int64\n",
      "Department                  1176 non-null object\n",
      "DistanceFromHome            1174 non-null float64\n",
      "Education                   1176 non-null int64\n",
      "EducationField              1176 non-null object\n",
      "EmployeeCount               1176 non-null int64\n",
      "EmployeeNumber              1176 non-null int64\n",
      "EnvironmentSatisfaction     1176 non-null int64\n",
      "Gender                      1175 non-null object\n",
      "HourlyRate                  1176 non-null int64\n",
      "JobInvolvement              1176 non-null int64\n",
      "JobLevel                    1175 non-null float64\n",
      "JobRole                     1176 non-null object\n",
      "JobSatisfaction             1176 non-null int64\n",
      "MaritalStatus               1176 non-null object\n",
      "MonthlyIncome               1176 non-null int64\n",
      "MonthlyRate                 1176 non-null int64\n",
      "NumCompaniesWorked          1176 non-null int64\n",
      "Over18                      1176 non-null object\n",
      "OverTime                    1175 non-null object\n",
      "PercentSalaryHike           1175 non-null float64\n",
      "PerformanceRating           1175 non-null float64\n",
      "RelationshipSatisfaction    1175 non-null float64\n",
      "StandardHours               1176 non-null int64\n",
      "StockOptionLevel            1176 non-null int64\n",
      "TotalWorkingYears           1174 non-null float64\n",
      "TrainingTimesLastYear       1176 non-null int64\n",
      "WorkLifeBalance             1176 non-null int64\n",
      "YearsAtCompany              1176 non-null int64\n",
      "YearsInCurrentRole          1176 non-null int64\n",
      "YearsSinceLastPromotion     1175 non-null float64\n",
      "YearsWithCurrManager        1176 non-null int64\n",
      "dtypes: float64(7), int64(19), object(9)\n",
      "memory usage: 321.6+ KB\n"
     ]
    }
   ],
   "source": [
    "df.info()"
   ]
  },
  {
   "cell_type": "markdown",
   "metadata": {},
   "source": [
    "### Check missing data"
   ]
  },
  {
   "cell_type": "code",
   "execution_count": 6,
   "metadata": {},
   "outputs": [
    {
     "data": {
      "text/html": [
       "<div>\n",
       "<style scoped>\n",
       "    .dataframe tbody tr th:only-of-type {\n",
       "        vertical-align: middle;\n",
       "    }\n",
       "\n",
       "    .dataframe tbody tr th {\n",
       "        vertical-align: top;\n",
       "    }\n",
       "\n",
       "    .dataframe thead th {\n",
       "        text-align: right;\n",
       "    }\n",
       "</style>\n",
       "<table border=\"1\" class=\"dataframe\">\n",
       "  <thead>\n",
       "    <tr style=\"text-align: right;\">\n",
       "      <th></th>\n",
       "      <th>#Missing</th>\n",
       "      <th>Percent_Missing</th>\n",
       "    </tr>\n",
       "  </thead>\n",
       "  <tbody>\n",
       "    <tr>\n",
       "      <th>TotalWorkingYears</th>\n",
       "      <td>2</td>\n",
       "      <td>0.001701</td>\n",
       "    </tr>\n",
       "    <tr>\n",
       "      <th>DistanceFromHome</th>\n",
       "      <td>2</td>\n",
       "      <td>0.001701</td>\n",
       "    </tr>\n",
       "    <tr>\n",
       "      <th>YearsSinceLastPromotion</th>\n",
       "      <td>1</td>\n",
       "      <td>0.000850</td>\n",
       "    </tr>\n",
       "    <tr>\n",
       "      <th>RelationshipSatisfaction</th>\n",
       "      <td>1</td>\n",
       "      <td>0.000850</td>\n",
       "    </tr>\n",
       "    <tr>\n",
       "      <th>PerformanceRating</th>\n",
       "      <td>1</td>\n",
       "      <td>0.000850</td>\n",
       "    </tr>\n",
       "    <tr>\n",
       "      <th>PercentSalaryHike</th>\n",
       "      <td>1</td>\n",
       "      <td>0.000850</td>\n",
       "    </tr>\n",
       "    <tr>\n",
       "      <th>OverTime</th>\n",
       "      <td>1</td>\n",
       "      <td>0.000850</td>\n",
       "    </tr>\n",
       "    <tr>\n",
       "      <th>JobLevel</th>\n",
       "      <td>1</td>\n",
       "      <td>0.000850</td>\n",
       "    </tr>\n",
       "    <tr>\n",
       "      <th>Gender</th>\n",
       "      <td>1</td>\n",
       "      <td>0.000850</td>\n",
       "    </tr>\n",
       "  </tbody>\n",
       "</table>\n",
       "</div>"
      ],
      "text/plain": [
       "                          #Missing  Percent_Missing\n",
       "TotalWorkingYears                2         0.001701\n",
       "DistanceFromHome                 2         0.001701\n",
       "YearsSinceLastPromotion          1         0.000850\n",
       "RelationshipSatisfaction         1         0.000850\n",
       "PerformanceRating                1         0.000850\n",
       "PercentSalaryHike                1         0.000850\n",
       "OverTime                         1         0.000850\n",
       "JobLevel                         1         0.000850\n",
       "Gender                           1         0.000850"
      ]
     },
     "execution_count": 6,
     "metadata": {},
     "output_type": "execute_result"
    }
   ],
   "source": [
    "df_miss = pd.DataFrame(df.isna().sum()[df.isna().sum() !=0].sort_values(ascending=False))\n",
    "df_miss.columns = ['#Missing']\n",
    "df_miss['Percent_Missing'] = df.isna().sum()/len(df)\n",
    "df_miss"
   ]
  },
  {
   "cell_type": "markdown",
   "metadata": {},
   "source": [
    "For each features, only 1 or 2 missing value among 1176 data points. For those missing values, we can simply remove it."
   ]
  },
  {
   "cell_type": "code",
   "execution_count": 554,
   "metadata": {
    "collapsed": true
   },
   "outputs": [
    {
     "name": "stdout",
     "output_type": "stream",
     "text": [
      "<class 'pandas.core.frame.DataFrame'>\n",
      "Int64Index: 1165 entries, 0 to 1175\n",
      "Data columns (total 35 columns):\n",
      "Age                         1165 non-null int64\n",
      "Attrition                   1165 non-null object\n",
      "BusinessTravel              1165 non-null object\n",
      "DailyRate                   1165 non-null int64\n",
      "Department                  1165 non-null object\n",
      "DistanceFromHome            1165 non-null float64\n",
      "Education                   1165 non-null int64\n",
      "EducationField              1165 non-null object\n",
      "EmployeeCount               1165 non-null int64\n",
      "EmployeeNumber              1165 non-null int64\n",
      "EnvironmentSatisfaction     1165 non-null int64\n",
      "Gender                      1165 non-null object\n",
      "HourlyRate                  1165 non-null int64\n",
      "JobInvolvement              1165 non-null int64\n",
      "JobLevel                    1165 non-null float64\n",
      "JobRole                     1165 non-null object\n",
      "JobSatisfaction             1165 non-null int64\n",
      "MaritalStatus               1165 non-null object\n",
      "MonthlyIncome               1165 non-null int64\n",
      "MonthlyRate                 1165 non-null int64\n",
      "NumCompaniesWorked          1165 non-null int64\n",
      "Over18                      1165 non-null object\n",
      "OverTime                    1165 non-null object\n",
      "PercentSalaryHike           1165 non-null float64\n",
      "PerformanceRating           1165 non-null float64\n",
      "RelationshipSatisfaction    1165 non-null float64\n",
      "StandardHours               1165 non-null int64\n",
      "StockOptionLevel            1165 non-null int64\n",
      "TotalWorkingYears           1165 non-null float64\n",
      "TrainingTimesLastYear       1165 non-null int64\n",
      "WorkLifeBalance             1165 non-null int64\n",
      "YearsAtCompany              1165 non-null int64\n",
      "YearsInCurrentRole          1165 non-null int64\n",
      "YearsSinceLastPromotion     1165 non-null float64\n",
      "YearsWithCurrManager        1165 non-null int64\n",
      "dtypes: float64(7), int64(19), object(9)\n",
      "memory usage: 327.7+ KB\n"
     ]
    }
   ],
   "source": [
    "df = df.dropna()\n",
    "df.info()"
   ]
  },
  {
   "cell_type": "markdown",
   "metadata": {},
   "source": [
    "## Early Data Exploration"
   ]
  },
  {
   "cell_type": "markdown",
   "metadata": {},
   "source": [
    "To get the overview of data, the first thing is to get insigh of Target variable: Attrition. Below is some finding of Attrition."
   ]
  },
  {
   "cell_type": "code",
   "execution_count": 97,
   "metadata": {},
   "outputs": [
    {
     "data": {
      "text/plain": [
       "No     991\n",
       "Yes    185\n",
       "Name: Attrition, dtype: int64"
      ]
     },
     "execution_count": 97,
     "metadata": {},
     "output_type": "execute_result"
    }
   ],
   "source": [
    "df['Attrition'].value_counts()"
   ]
  },
  {
   "cell_type": "code",
   "execution_count": 102,
   "metadata": {},
   "outputs": [
    {
     "data": {
      "image/png": "[encoded data removed]",
      "text/plain": [
       "<Figure size 432x288 with 1 Axes>"
      ]
     },
     "metadata": {},
     "output_type": "display_data"
    }
   ],
   "source": [
    "explode = (0,0.1)\n",
    "plt.pie(df['Attrition'].value_counts(),labels = ['No','Yes'],autopct='%1.1f%%',\n",
    "        shadow=True, explode = explode)\n",
    "plt.title('distribution of Attrition')\n",
    "plt.show()"
   ]
  },
  {
   "cell_type": "markdown",
   "metadata": {},
   "source": [
    "This is an important aspect that will be further discussed in this kernel and that is dealing with imbalanced dataset. 84% of employees did not quit the organization while 16% did leave the organization. Knowing that we are dealing with an imbalanced dataset will help us determine what will be the best approach to implement our predictive model."
   ]
  },
  {
   "cell_type": "markdown",
   "metadata": {},
   "source": [
    "### Age variable"
   ]
  },
  {
   "cell_type": "code",
   "execution_count": 123,
   "metadata": {},
   "outputs": [
    {
     "data": {
      "image/png": "[encoded data removed]",
      "text/plain": [
       "<Figure size 720x576 with 1 Axes>"
      ]
     },
     "metadata": {
      "needs_background": "light"
     },
     "output_type": "display_data"
    }
   ],
   "source": [
    "plt.figure(figsize=(10,8))\n",
    "age_male = df[df['Gender'] == 'Male']['Age']\n",
    "age_fe = df[df['Gender'] == 'Female']['Age']\n",
    "# age_leave = df[df['Attrition'] == 'Yes']['Age']\n",
    "plt.hist(age_male, bins=40, label='Male',alpha=0.5)\n",
    "plt.hist(age_fe, bins=40, label='Female',alpha=0.5)\n",
    "# plt.hist(age_leave, bins=40, label='Quit',alpha=0.5)\n",
    "plt.legend(loc='best')\n",
    "plt.show()"
   ]
  },
  {
   "cell_type": "markdown",
   "metadata": {},
   "source": [
    "For the entire company, we can see that at every age range, male employee are slitly higher than female."
   ]
  },
  {
   "cell_type": "code",
   "execution_count": 129,
   "metadata": {},
   "outputs": [
    {
     "data": {
      "image/png": "[encoded data removed]",
      "text/plain": [
       "<Figure size 576x432 with 1 Axes>"
      ]
     },
     "metadata": {
      "needs_background": "light"
     },
     "output_type": "display_data"
    }
   ],
   "source": [
    "m1 = df[df['Gender'] == 'Male']\n",
    "age_male = m1[m1['Attrition'] == 'Yes']['Age']\n",
    "\n",
    "m2 = df[df['Gender'] == 'Female']\n",
    "age_fe = m2[m2['Attrition'] == 'Yes']['Age']\n",
    "plt.figure(figsize=(8,6))\n",
    "sns.distplot(age_male,bins=25)\n",
    "sns.distplot(age_fe,bins=25)\n",
    "plt.title('distribution of age for people who are leaving group by gender')\n",
    "plt.show()"
   ]
  },
  {
   "cell_type": "markdown",
   "metadata": {},
   "source": [
    "From the plot above, we can say that there is no significant difference between male and female in people who are leaving from the company."
   ]
  },
  {
   "cell_type": "markdown",
   "metadata": {},
   "source": [
    "It seems that we could not get insight from general perspective stats and plot, we could think from proportion of age. Firstly, we divide people into different age groups like below. And then analyze each groups percentage of leaving,which might give us some information about Attrition."
   ]
  },
  {
   "cell_type": "markdown",
   "metadata": {},
   "source": [
    "**age groups:**\n",
    "* 18 - 25\n",
    "* 25 - 32\n",
    "* 32 - 37\n",
    "* 37 - 44\n",
    "* 44 - 60"
   ]
  },
  {
   "cell_type": "code",
   "execution_count": 143,
   "metadata": {},
   "outputs": [],
   "source": [
    "step1 = df[df['Age'] >= 18]\n",
    "Age1 = step1[step1['Age'] < 25]\n",
    "\n",
    "step2 = df[df['Age'] >= 25]\n",
    "Age2 = step2[step2['Age'] < 32]\n",
    "\n",
    "step3 = df[df['Age'] >= 32]\n",
    "Age3 = step3[step3['Age'] < 37]\n",
    "\n",
    "step4 = df[df['Age'] >= 37]\n",
    "Age4 = step4[step4['Age'] < 44]\n",
    "\n",
    "step5 = df[df['Age'] >= 44]\n",
    "Age5 = step5[step5['Age'] < 60]\n",
    "\n",
    "\n",
    "frames = [Age1['Attrition'].value_counts(normalize=True).to_frame(),\n",
    "          Age2['Attrition'].value_counts(normalize=True).to_frame(),\n",
    "          Age3['Attrition'].value_counts(normalize=True).to_frame(),\n",
    "          Age4['Attrition'].value_counts(normalize=True).to_frame(),\n",
    "          Age5['Attrition'].value_counts(normalize=True).to_frame()]\n",
    "frames = [round(num,2) for num in frames]\n",
    "result = pd.concat(frames)"
   ]
  },
  {
   "cell_type": "code",
   "execution_count": 186,
   "metadata": {},
   "outputs": [
    {
     "data": {
      "image/png": "[encoded data removed]",
      "text/plain": [
       "<Figure size 432x288 with 1 Axes>"
      ]
     },
     "metadata": {
      "needs_background": "light"
     },
     "output_type": "display_data"
    }
   ],
   "source": [
    "labels = ['Age 18 - 25','Age 25 - 32','Age 32 - 37','Age 37 - 44','Age 44 - 60']\n",
    "no = result[result['Attrition'].index == 'No']['Attrition'].to_list()\n",
    "yes = result[result['Attrition'].index == 'Yes']['Attrition'].to_list()\n",
    "x = np.arange(len(labels))\n",
    "width = 0.35\n",
    "\n",
    "fig, ax = plt.subplots()\n",
    "rects1 = ax.bar(x - width/2, no, width, label='Attrition No')\n",
    "rects2 = ax.bar(x + width/2, yes, width, label='Attrition Yes')\n",
    "\n",
    "ax.set_ylabel('Percentage')\n",
    "ax.set_title('Attrition proportion for every age groups')\n",
    "ax.set_xticks(x)\n",
    "ax.set_xticklabels(labels)\n",
    "ax.legend()\n",
    "\n",
    "def autolabel(rects):\n",
    "    for rect in rects:\n",
    "        height = rect.get_height()\n",
    "        ax.annotate('{}'.format(height),\n",
    "                    xy=(rect.get_x() + rect.get_width() / 2, height),\n",
    "                    xytext=(0, 3),  \n",
    "                    textcoords=\"offset points\",\n",
    "                    ha='center', va='bottom')\n",
    "\n",
    "autolabel(rects1)\n",
    "autolabel(rects2)        \n",
    "        \n",
    "fig.tight_layout(pad=0.4, w_pad=0.8, h_pad=1.0)\n",
    "plt.show()"
   ]
  },
  {
   "cell_type": "markdown",
   "metadata": {},
   "source": [
    "After we visualize age and Attrition relationship as group, we could find out that for people who are in 18 - 25 age group has highest percentage of people to leave. And for this company, people who are below 30 age more likely to leave company."
   ]
  },
  {
   "cell_type": "markdown",
   "metadata": {},
   "source": [
    "### BusinessTravel Variable"
   ]
  },
  {
   "cell_type": "code",
   "execution_count": 190,
   "metadata": {},
   "outputs": [
    {
     "name": "stdout",
     "output_type": "stream",
     "text": [
      "Travel_Rarely        839\n",
      "Travel_Frequently    227\n",
      "Non-Travel           110\n",
      "Name: BusinessTravel, dtype: int64\n"
     ]
    }
   ],
   "source": [
    "df['BusinessTravel'].value_counts()"
   ]
  },
  {
   "cell_type": "markdown",
   "metadata": {},
   "source": [
    "Most of employee in this company travel rarely or no travel."
   ]
  },
  {
   "cell_type": "code",
   "execution_count": 197,
   "metadata": {},
   "outputs": [],
   "source": [
    "BV = df['BusinessTravel'].groupby(df['Attrition']).value_counts(normalize=True).to_frame()"
   ]
  },
  {
   "cell_type": "code",
   "execution_count": 235,
   "metadata": {},
   "outputs": [
    {
     "data": {
      "image/png": "[encoded data removed]",
      "text/plain": [
       "<Figure size 432x288 with 1 Axes>"
      ]
     },
     "metadata": {
      "needs_background": "light"
     },
     "output_type": "display_data"
    }
   ],
   "source": [
    "label2 = ['Travel_Rarely','Travel_Frequently','Non-Travel']\n",
    "no_bv = [round(num,3) for num in BV['BusinessTravel'][0:3].to_list()]\n",
    "yes_bv = [round(num,3) for num in BV['BusinessTravel'][3:].to_list()]\n",
    "\n",
    "x = np.arange(len(label2))\n",
    "width = 0.35\n",
    "\n",
    "fig, ax = plt.subplots()\n",
    "rects1 = ax.bar(x - width/2, no_bv, width, label='Attrition No')\n",
    "rects2 = ax.bar(x + width/2, yes_bv, width, label='Attrition Yes')\n",
    "\n",
    "ax.set_ylabel('Percentage')\n",
    "ax.set_title('Attrition proportion for different Business travel types')\n",
    "ax.set_xticks(x)\n",
    "ax.set_xticklabels(label2)\n",
    "ax.legend()\n",
    "\n",
    "def autolabel(rects):\n",
    "    for rect in rects:\n",
    "        height = rect.get_height()\n",
    "        ax.annotate('{}'.format(height),\n",
    "                    xy=(rect.get_x() + rect.get_width() / 2, height),\n",
    "                    xytext=(0, 3),  \n",
    "                    textcoords=\"offset points\",\n",
    "                    ha='center', va='bottom')\n",
    "\n",
    "autolabel(rects1)\n",
    "autolabel(rects2)        \n",
    "        \n",
    "fig.tight_layout()\n",
    "plt.show()"
   ]
  },
  {
   "cell_type": "markdown",
   "metadata": {},
   "source": [
    "By the plot above, we could know that except Travel frequently type, every other business travel type employee have a higher percentage of people who stay in the company than leaving the company. People who are travel frequently have a much higher percentage of people leaving, which is easy to explain by intuition. People who travel frequently in this company may feel stressed or tired, so they tend to change jobs."
   ]
  },
  {
   "cell_type": "markdown",
   "metadata": {},
   "source": [
    "### DailyRate & HourlyRate Variable"
   ]
  },
  {
   "cell_type": "code",
   "execution_count": 256,
   "metadata": {},
   "outputs": [
    {
     "data": {
      "image/png": "[encoded data removed]",
      "text/plain": [
       "<Figure size 576x432 with 1 Axes>"
      ]
     },
     "metadata": {
      "needs_background": "light"
     },
     "output_type": "display_data"
    }
   ],
   "source": [
    "dr1 = df[df['Attrition'] == 'No']['DailyRate']\n",
    "dr2 = df[df['Attrition'] == 'Yes']['DailyRate']\n",
    "\n",
    "plt.figure(figsize=(8,6))\n",
    "sns.distplot(dr1,bins=25,label='Attrition No')\n",
    "sns.distplot(dr2,bins=25,label='Attrition Yes')\n",
    "plt.title('distribution of Daily Rate for Attrition')\n",
    "plt.legend()\n",
    "plt.show()"
   ]
  },
  {
   "cell_type": "markdown",
   "metadata": {},
   "source": [
    "By compared Leaving employee's Daily Rate and Stay employee's daily rate, we can notice that for people who have daily rate about 250 to 600, more people leave than stay. And roughtly above 600 daily rate more people would stay than leave."
   ]
  },
  {
   "cell_type": "code",
   "execution_count": 392,
   "metadata": {},
   "outputs": [
    {
     "data": {
      "image/png": "[encoded data removed]",
      "text/plain": [
       "<Figure size 576x432 with 1 Axes>"
      ]
     },
     "metadata": {
      "needs_background": "light"
     },
     "output_type": "display_data"
    }
   ],
   "source": [
    "dr1 = df[df['Attrition'] == 'No']['HourlyRate']\n",
    "dr2 = df[df['Attrition'] == 'Yes']['HourlyRate']\n",
    "\n",
    "plt.figure(figsize=(8,6))\n",
    "sns.distplot(dr1,bins=25,label='Attrition No')\n",
    "sns.distplot(dr2,bins=25,label='Attrition Yes')\n",
    "plt.title('distribution of Hourly Rate for Attrition')\n",
    "plt.legend()\n",
    "plt.show()"
   ]
  },
  {
   "cell_type": "markdown",
   "metadata": {},
   "source": [
    "Not like Daily rate, people who have low hourly rate (25 - 45) have more people stay than people who have higher hourly rate (80 - 100). However, we do not invlove the work load to hourly rate, we will discuss it on below."
   ]
  },
  {
   "cell_type": "code",
   "execution_count": 397,
   "metadata": {},
   "outputs": [
    {
     "data": {
      "text/plain": [
       "OverTime\n",
       "No     65.92\n",
       "Yes    65.60\n",
       "Name: HourlyRate, dtype: float64"
      ]
     },
     "execution_count": 397,
     "metadata": {},
     "output_type": "execute_result"
    }
   ],
   "source": [
    "round(df['HourlyRate'].groupby(df['OverTime']).mean(),2)"
   ]
  },
  {
   "cell_type": "markdown",
   "metadata": {},
   "source": [
    "there is no significant difference in hourly rate between over time people and not over time people"
   ]
  },
  {
   "cell_type": "markdown",
   "metadata": {},
   "source": [
    "### Department Variable"
   ]
  },
  {
   "cell_type": "code",
   "execution_count": 257,
   "metadata": {},
   "outputs": [
    {
     "data": {
      "text/plain": [
       "Attrition  Department            \n",
       "No         Research & Development    0.673\n",
       "           Sales                     0.283\n",
       "           Human Resources           0.044\n",
       "Yes        Research & Development    0.524\n",
       "           Sales                     0.422\n",
       "           Human Resources           0.054\n",
       "Name: Department, dtype: float64"
      ]
     },
     "execution_count": 257,
     "metadata": {},
     "output_type": "execute_result"
    }
   ],
   "source": [
    "round(df['Department'].groupby(df['Attrition']).value_counts(normalize=True),3)"
   ]
  },
  {
   "cell_type": "markdown",
   "metadata": {},
   "source": [
    "from the table above, we can see that by change from stay group to leave group, Sales department increased from 28.3% to 42.2, which is most biggest change among all departments."
   ]
  },
  {
   "cell_type": "code",
   "execution_count": 275,
   "metadata": {},
   "outputs": [],
   "source": [
    "dp = df.groupby(['Attrition','Department'])['DailyRate'].mean().to_frame()"
   ]
  },
  {
   "cell_type": "code",
   "execution_count": 278,
   "metadata": {},
   "outputs": [
    {
     "data": {
      "text/html": [
       "<div>\n",
       "<style scoped>\n",
       "    .dataframe tbody tr th:only-of-type {\n",
       "        vertical-align: middle;\n",
       "    }\n",
       "\n",
       "    .dataframe tbody tr th {\n",
       "        vertical-align: top;\n",
       "    }\n",
       "\n",
       "    .dataframe thead th {\n",
       "        text-align: right;\n",
       "    }\n",
       "</style>\n",
       "<table border=\"1\" class=\"dataframe\">\n",
       "  <thead>\n",
       "    <tr style=\"text-align: right;\">\n",
       "      <th></th>\n",
       "      <th></th>\n",
       "      <th>DailyRate</th>\n",
       "    </tr>\n",
       "    <tr>\n",
       "      <th>Attrition</th>\n",
       "      <th>Department</th>\n",
       "      <th></th>\n",
       "    </tr>\n",
       "  </thead>\n",
       "  <tbody>\n",
       "    <tr>\n",
       "      <th rowspan=\"3\" valign=\"top\">No</th>\n",
       "      <th>Human Resources</th>\n",
       "      <td>739.522727</td>\n",
       "    </tr>\n",
       "    <tr>\n",
       "      <th>Research &amp; Development</th>\n",
       "      <td>813.211394</td>\n",
       "    </tr>\n",
       "    <tr>\n",
       "      <th>Sales</th>\n",
       "      <td>820.171429</td>\n",
       "    </tr>\n",
       "    <tr>\n",
       "      <th rowspan=\"3\" valign=\"top\">Yes</th>\n",
       "      <th>Human Resources</th>\n",
       "      <td>713.400000</td>\n",
       "    </tr>\n",
       "    <tr>\n",
       "      <th>Research &amp; Development</th>\n",
       "      <td>743.288660</td>\n",
       "    </tr>\n",
       "    <tr>\n",
       "      <th>Sales</th>\n",
       "      <td>736.192308</td>\n",
       "    </tr>\n",
       "  </tbody>\n",
       "</table>\n",
       "</div>"
      ],
      "text/plain": [
       "                                   DailyRate\n",
       "Attrition Department                        \n",
       "No        Human Resources         739.522727\n",
       "          Research & Development  813.211394\n",
       "          Sales                   820.171429\n",
       "Yes       Human Resources         713.400000\n",
       "          Research & Development  743.288660\n",
       "          Sales                   736.192308"
      ]
     },
     "execution_count": 278,
     "metadata": {},
     "output_type": "execute_result"
    }
   ],
   "source": [
    "dp"
   ]
  },
  {
   "cell_type": "code",
   "execution_count": 565,
   "metadata": {},
   "outputs": [
    {
     "data": {
      "image/png": "[encoded data removed]",
      "text/plain": [
       "<Figure size 432x288 with 1 Axes>"
      ]
     },
     "metadata": {
      "needs_background": "light"
     },
     "output_type": "display_data"
    }
   ],
   "source": [
    "label3 = ['Human Resources','Research & Development','Sales']\n",
    "no_dp = [round(num,3) for num in dp['DailyRate'][0:3].to_list()]\n",
    "yes_dp = [round(num,3) for num in dp['DailyRate'][3:].to_list()]\n",
    "\n",
    "x = np.arange(len(label3))\n",
    "width = 0.30\n",
    "\n",
    "fig, ax = plt.subplots()\n",
    "rects1 = ax.bar(x - width/2, no_dp, width, label='Attrition No')\n",
    "rects2 = ax.bar(x + width/2, yes_dp, width, label='Attrition Yes')\n",
    "\n",
    "ax.set_ylabel('Percentage')\n",
    "ax.set_title('Attrition proportion for different Department types')\n",
    "ax.set_xticks(x)\n",
    "ax.set_xticklabels(label3)\n",
    "ax.legend()\n",
    "\n",
    "def autolabel(rects):\n",
    "    for rect in rects:\n",
    "        height = rect.get_height()\n",
    "        ax.annotate('{}'.format(height),\n",
    "                    xy=(rect.get_x() + rect.get_width() / 2, height),\n",
    "                    xytext=(0, 3),  \n",
    "                    textcoords=\"offset points\",\n",
    "                    ha='center', va='bottom')\n",
    "\n",
    "autolabel(rects1)\n",
    "autolabel(rects2)        \n",
    "        \n",
    "fig.tight_layout()\n",
    "plt.show()"
   ]
  },
  {
   "cell_type": "markdown",
   "metadata": {},
   "source": [
    "we can see that people who leaved company in all department have lower daily rate than people who stay."
   ]
  },
  {
   "cell_type": "markdown",
   "metadata": {},
   "source": [
    "### DistanceFromHome Variable"
   ]
  },
  {
   "cell_type": "code",
   "execution_count": 303,
   "metadata": {},
   "outputs": [
    {
     "data": {
      "image/png": "[encoded data removed]",
      "text/plain": [
       "<Figure size 576x432 with 1 Axes>"
      ]
     },
     "metadata": {
      "needs_background": "light"
     },
     "output_type": "display_data"
    }
   ],
   "source": [
    "No_d = df[df['Attrition'] == 'No']['DistanceFromHome']\n",
    "Yes_d = df[df['Attrition'] == 'Yes']['DistanceFromHome']\n",
    "\n",
    "plt.figure(figsize=(8,6))\n",
    "sns.distplot(No_d,bins=10,label='Attrition No')\n",
    "sns.distplot(Yes_d,bins=10,label='Attrition Yes')\n",
    "plt.title('distribution of Distance From Home for different Attrition')\n",
    "plt.xlim(-10,50)\n",
    "plt.legend()\n",
    "plt.show()"
   ]
  },
  {
   "cell_type": "code",
   "execution_count": null,
   "metadata": {},
   "outputs": [],
   "source": []
  },
  {
   "cell_type": "markdown",
   "metadata": {},
   "source": [
    "from the plot above, the distribution of employee who stay in company more live closer from home than people who leave the company. between 0 to 10, percentage of people stay larger than people leave. Between 10 to 27, percentage of people leave larger than people stay."
   ]
  },
  {
   "cell_type": "markdown",
   "metadata": {},
   "source": [
    "### Education & EducationField Variable"
   ]
  },
  {
   "cell_type": "code",
   "execution_count": 311,
   "metadata": {},
   "outputs": [
    {
     "data": {
      "text/plain": [
       "Attrition  Education\n",
       "No         3            37.84\n",
       "           4            26.94\n",
       "           2            20.18\n",
       "           1            11.81\n",
       "           5             3.23\n",
       "Yes        3            41.62\n",
       "           4            25.41\n",
       "           2            18.92\n",
       "           1            11.35\n",
       "           5             2.70\n",
       "Name: Education, dtype: float64"
      ]
     },
     "execution_count": 311,
     "metadata": {},
     "output_type": "execute_result"
    }
   ],
   "source": [
    "round(df['Education'].groupby(df['Attrition']).value_counts(normalize=True) * 100,2)"
   ]
  },
  {
   "cell_type": "code",
   "execution_count": 318,
   "metadata": {},
   "outputs": [
    {
     "data": {
      "text/plain": [
       "Life Sciences       477\n",
       "Medical             381\n",
       "Marketing           127\n",
       "Technical Degree     97\n",
       "Other                69\n",
       "Human Resources      25\n",
       "Name: EducationField, dtype: int64"
      ]
     },
     "execution_count": 318,
     "metadata": {},
     "output_type": "execute_result"
    }
   ],
   "source": [
    "df['EducationField'].value_counts()"
   ]
  },
  {
   "cell_type": "code",
   "execution_count": 323,
   "metadata": {},
   "outputs": [
    {
     "data": {
      "text/plain": [
       "Attrition  EducationField  \n",
       "No         Life Sciences       41.17\n",
       "           Medical             33.60\n",
       "           Marketing            9.89\n",
       "           Technical Degree     7.27\n",
       "           Other                6.26\n",
       "           Human Resources      1.82\n",
       "Yes        Life Sciences       37.30\n",
       "           Medical             25.95\n",
       "           Marketing           15.68\n",
       "           Technical Degree    13.51\n",
       "           Human Resources      3.78\n",
       "           Other                3.78\n",
       "Name: EducationField, dtype: float64"
      ]
     },
     "execution_count": 323,
     "metadata": {},
     "output_type": "execute_result"
    }
   ],
   "source": [
    "round(df['EducationField'].groupby(df['Attrition']).value_counts(normalize=True) * 100,2)"
   ]
  },
  {
   "cell_type": "markdown",
   "metadata": {},
   "source": [
    "for education field, we try to calculate the percentage of different education background people who are leaving, and it may give us some information of the relationship between education field and attrition"
   ]
  },
  {
   "cell_type": "code",
   "execution_count": 331,
   "metadata": {},
   "outputs": [],
   "source": [
    "ef_all = df['EducationField'].value_counts().to_list()\n",
    "ef_all[4], ef_all[5] = ef_all[5], ef_all[4]\n",
    "ef_yes = df[df['Attrition'] == 'Yes']['EducationField'].value_counts().to_list()\n",
    "label_ef = df[df['Attrition'] == 'Yes']['EducationField'].value_counts().to_frame().index.to_list()"
   ]
  },
  {
   "cell_type": "code",
   "execution_count": 364,
   "metadata": {},
   "outputs": [
    {
     "data": {
      "image/png": "[encoded data removed]",
      "text/plain": [
       "<Figure size 432x288 with 1 Axes>"
      ]
     },
     "metadata": {
      "needs_background": "light"
     },
     "output_type": "display_data"
    }
   ],
   "source": [
    "fig = plt.figure()\n",
    "ax = fig.add_axes([0,0,1,1])\n",
    "x = np.arange(6)\n",
    "ax.bar(x,ef_all)\n",
    "ax.bar(x,ef_yes)\n",
    "# for i,v in enumerate(ef_yes):\n",
    "#     ax.text(x=v+1, y=i,str(v))\n",
    "plt.title('percentage of people leave for different eudation field')\n",
    "plt.show()"
   ]
  },
  {
   "cell_type": "markdown",
   "metadata": {},
   "source": [
    "### EnvironmentSatisfaction"
   ]
  },
  {
   "cell_type": "code",
   "execution_count": 374,
   "metadata": {},
   "outputs": [
    {
     "data": {
      "text/plain": [
       "Attrition  EnvironmentSatisfaction\n",
       "No         3                          31.79\n",
       "           4                          30.78\n",
       "           2                          19.78\n",
       "           1                          17.66\n",
       "Yes        1                          31.35\n",
       "           3                          27.57\n",
       "           4                          23.24\n",
       "           2                          17.84\n",
       "Name: EnvironmentSatisfaction, dtype: float64"
      ]
     },
     "execution_count": 374,
     "metadata": {},
     "output_type": "execute_result"
    }
   ],
   "source": [
    "round(df['EnvironmentSatisfaction'].groupby(df['Attrition']).value_counts(normalize=True)*100,2)"
   ]
  },
  {
   "cell_type": "code",
   "execution_count": 387,
   "metadata": {},
   "outputs": [
    {
     "data": {
      "image/png": "[encoded data removed]",
      "text/plain": [
       "<Figure size 432x288 with 1 Axes>"
      ]
     },
     "metadata": {
      "needs_background": "light"
     },
     "output_type": "display_data"
    }
   ],
   "source": [
    "# sns.set_theme(style=\"ticks\", palette=\"pastel\")\n",
    "sns.boxplot(x='Attrition',y='EnvironmentSatisfaction',data=df)\n",
    "sns.despine(offset=10, trim=True)\n",
    "plt.title('EnvironmentStatisfaction for Attrition')\n",
    "plt.show()"
   ]
  },
  {
   "cell_type": "markdown",
   "metadata": {},
   "source": [
    "The average Environment statisfaction for people who are leaving is much lower than people who stay"
   ]
  },
  {
   "cell_type": "markdown",
   "metadata": {},
   "source": [
    "### Income related variables"
   ]
  },
  {
   "cell_type": "code",
   "execution_count": 406,
   "metadata": {},
   "outputs": [
    {
     "data": {
      "image/png": "[encoded data removed]",
      "text/plain": [
       "<Figure size 576x432 with 1 Axes>"
      ]
     },
     "metadata": {
      "needs_background": "light"
     },
     "output_type": "display_data"
    }
   ],
   "source": [
    "income = df['MonthlyIncome']\n",
    "yes_in = df[df['Attrition'] == 'Yes']['MonthlyIncome']\n",
    "plt.figure(figsize=(8,6))\n",
    "sns.distplot(income,bins=10,label='All')\n",
    "sns.distplot(yes_in,bins=10,label='Attrition Yes')\n",
    "plt.legend()\n",
    "plt.title('Monthly Income distribution')\n",
    "plt.show()"
   ]
  },
  {
   "cell_type": "markdown",
   "metadata": {},
   "source": [
    "From the relationship between Monthly income and Attrition, it is obvious that low income employee more willing to leave than high income employee."
   ]
  },
  {
   "cell_type": "markdown",
   "metadata": {},
   "source": [
    "#### Income and JobSatisfaction"
   ]
  },
  {
   "cell_type": "code",
   "execution_count": 428,
   "metadata": {},
   "outputs": [],
   "source": [
    "ij = df.groupby(['Attrition','JobSatisfaction'])['MonthlyIncome'].mean().to_frame()"
   ]
  },
  {
   "cell_type": "code",
   "execution_count": 442,
   "metadata": {},
   "outputs": [
    {
     "data": {
      "image/png": "[encoded data removed]",
      "text/plain": [
       "<Figure size 720x576 with 1 Axes>"
      ]
     },
     "metadata": {
      "needs_background": "light"
     },
     "output_type": "display_data"
    }
   ],
   "source": [
    "label2 = ['1','2','3','4']\n",
    "no_ij = [round(num,3) for num in ij['MonthlyIncome'][0:4].to_list()]\n",
    "yes_ij = [round(num,3) for num in ij['MonthlyIncome'][4:].to_list()]\n",
    "\n",
    "\n",
    "x = np.arange(len(label2))\n",
    "width = 0.30\n",
    "\n",
    "fig, ax = plt.subplots(figsize=(10,8))\n",
    "rects1 = ax.bar(x - width/2, no_ij, width, label='Attrition No')\n",
    "rects2 = ax.bar(x + width/2, yes_ij, width, label='Attrition Yes')\n",
    "\n",
    "ax.set_ylabel('Income')\n",
    "ax.set_title('Different Job satistfactions income level and Attrition type')\n",
    "ax.set_xticks(x)\n",
    "ax.set_xticklabels(label2)\n",
    "ax.legend()\n",
    "\n",
    "def autolabel(rects):\n",
    "    for rect in rects:\n",
    "        height = rect.get_height()\n",
    "        ax.annotate('{}'.format(height),\n",
    "                    xy=(rect.get_x() + rect.get_width() / 2, height),\n",
    "                    xytext=(0, 3),  \n",
    "                    textcoords=\"offset points\",\n",
    "                    ha='center', va='bottom')\n",
    "\n",
    "autolabel(rects1)\n",
    "autolabel(rects2)        \n",
    "        \n",
    "# fig.tight_layout()\n",
    "\n",
    "plt.show()"
   ]
  },
  {
   "cell_type": "markdown",
   "metadata": {},
   "source": [
    "people who leaved company have low monthly income than people stay, and also people who have lowest satisfaction (1) and leaved company have lowest average monthly income among all categories. "
   ]
  },
  {
   "cell_type": "markdown",
   "metadata": {},
   "source": [
    "#### Income and RelationshipSatisfaction"
   ]
  },
  {
   "cell_type": "code",
   "execution_count": 501,
   "metadata": {},
   "outputs": [],
   "source": [
    "rs = df.groupby(['Attrition','RelationshipSatisfaction'])['MonthlyIncome'].mean().to_frame()"
   ]
  },
  {
   "cell_type": "code",
   "execution_count": 505,
   "metadata": {},
   "outputs": [
    {
     "data": {
      "image/png": "[encoded data removed]",
      "text/plain": [
       "<Figure size 720x576 with 1 Axes>"
      ]
     },
     "metadata": {
      "needs_background": "light"
     },
     "output_type": "display_data"
    }
   ],
   "source": [
    "label2 = ['1','2','3','4']\n",
    "no_rs = [round(num,3) for num in rs['MonthlyIncome'][0:4].to_list()]\n",
    "yes_rs = [round(num,3) for num in rs['MonthlyIncome'][4:].to_list()]\n",
    "\n",
    "\n",
    "x = np.arange(len(label2))\n",
    "width = 0.30\n",
    "\n",
    "fig, ax = plt.subplots(figsize=(10,8))\n",
    "rects1 = ax.bar(x - width/2, no_rs, width, label='Attrition No')\n",
    "rects2 = ax.bar(x + width/2, yes_rs, width, label='Attrition Yes')\n",
    "\n",
    "ax.set_ylabel('Income')\n",
    "ax.set_title('Different Relationship satistfactions income level and Attrition type')\n",
    "ax.set_xticks(x)\n",
    "ax.set_xticklabels(label2)\n",
    "ax.legend()\n",
    "\n",
    "def autolabel(rects):\n",
    "    for rect in rects:\n",
    "        height = rect.get_height()\n",
    "        ax.annotate('{}'.format(height),\n",
    "                    xy=(rect.get_x() + rect.get_width() / 2, height),\n",
    "                    xytext=(0, 3),  \n",
    "                    textcoords=\"offset points\",\n",
    "                    ha='center', va='bottom')\n",
    "\n",
    "autolabel(rects1)\n",
    "autolabel(rects2)        \n",
    "        \n",
    "# fig.tight_layout()\n",
    "\n",
    "plt.show()"
   ]
  },
  {
   "cell_type": "markdown",
   "metadata": {},
   "source": [
    "People who has relevantly low relationship satisfactions (2) and leaved company has lowest income (4044.818)."
   ]
  },
  {
   "cell_type": "markdown",
   "metadata": {},
   "source": [
    "### MaritalStatus"
   ]
  },
  {
   "cell_type": "code",
   "execution_count": 453,
   "metadata": {},
   "outputs": [],
   "source": [
    "msno = df['MaritalStatus'].groupby(df['Attrition']).value_counts().to_frame()['MaritalStatus'][0:3].to_list()\n",
    "msyes = df['MaritalStatus'].groupby(df['Attrition']).value_counts().to_frame()['MaritalStatus'][3:].to_list()\n",
    "msno[0], msno[1] = msno[1], msno[0]"
   ]
  },
  {
   "cell_type": "code",
   "execution_count": 469,
   "metadata": {},
   "outputs": [
    {
     "data": {
      "image/png": "[encoded data removed]",
      "text/plain": [
       "<Figure size 432x288 with 1 Axes>"
      ]
     },
     "metadata": {},
     "output_type": "display_data"
    }
   ],
   "source": [
    "fig, ax = plt.subplots()\n",
    "labels = ['Single stay','Married stay','Divorced stay']\n",
    "label2 = ['Single leave','Married leave','Divorced leave']\n",
    "colors = ['slateblue','goldenrod','olivedrab']\n",
    "pie_1 = ax.pie(msno,startangle=90,autopct='%1.1f%%',radius=1.5,pctdistance = 0.9,colors = colors,labels=labels)\n",
    "pie_2 = ax.pie(msyes,startangle=90,autopct='%1.1f%%',radius=1.2,pctdistance = 0.6,colors = colors)\n",
    "\n",
    "for pie_wedge in pie_1[0]:\n",
    "    pie_wedge.set_edgecolor('black')\n",
    "for pie_wedge in pie_2[0]:\n",
    "    pie_wedge.set_edgecolor('black')\n",
    "\n",
    "ax.set(aspect=\"equal\")\n",
    "plt.show()"
   ]
  },
  {
   "cell_type": "markdown",
   "metadata": {},
   "source": [
    "From the double pie chart above, we can clearly saw that people who are single have much higer weight in leave group than stay group. Divorced and Married take smaller percentage in leave group than stay group."
   ]
  },
  {
   "cell_type": "markdown",
   "metadata": {},
   "source": [
    "### Stock Option Level"
   ]
  },
  {
   "cell_type": "code",
   "execution_count": 499,
   "metadata": {},
   "outputs": [
    {
     "data": {
      "text/html": [
       "<div>\n",
       "<style scoped>\n",
       "    .dataframe tbody tr th:only-of-type {\n",
       "        vertical-align: middle;\n",
       "    }\n",
       "\n",
       "    .dataframe tbody tr th {\n",
       "        vertical-align: top;\n",
       "    }\n",
       "\n",
       "    .dataframe thead th {\n",
       "        text-align: right;\n",
       "    }\n",
       "</style>\n",
       "<table border=\"1\" class=\"dataframe\">\n",
       "  <thead>\n",
       "    <tr style=\"text-align: right;\">\n",
       "      <th></th>\n",
       "      <th>StockOptionLevel</th>\n",
       "    </tr>\n",
       "  </thead>\n",
       "  <tbody>\n",
       "    <tr>\n",
       "      <th>0</th>\n",
       "      <td>42.52</td>\n",
       "    </tr>\n",
       "    <tr>\n",
       "      <th>1</th>\n",
       "      <td>40.99</td>\n",
       "    </tr>\n",
       "    <tr>\n",
       "      <th>2</th>\n",
       "      <td>10.88</td>\n",
       "    </tr>\n",
       "    <tr>\n",
       "      <th>3</th>\n",
       "      <td>5.61</td>\n",
       "    </tr>\n",
       "  </tbody>\n",
       "</table>\n",
       "</div>"
      ],
      "text/plain": [
       "   StockOptionLevel\n",
       "0             42.52\n",
       "1             40.99\n",
       "2             10.88\n",
       "3              5.61"
      ]
     },
     "execution_count": 499,
     "metadata": {},
     "output_type": "execute_result"
    }
   ],
   "source": [
    "round(df['StockOptionLevel'].value_counts(normalize=True).to_frame()*100,2)"
   ]
  },
  {
   "cell_type": "code",
   "execution_count": 500,
   "metadata": {},
   "outputs": [
    {
     "name": "stdout",
     "output_type": "stream",
     "text": [
      "Stock Option Level for people who leaved\n"
     ]
    },
    {
     "data": {
      "text/html": [
       "<div>\n",
       "<style scoped>\n",
       "    .dataframe tbody tr th:only-of-type {\n",
       "        vertical-align: middle;\n",
       "    }\n",
       "\n",
       "    .dataframe tbody tr th {\n",
       "        vertical-align: top;\n",
       "    }\n",
       "\n",
       "    .dataframe thead th {\n",
       "        text-align: right;\n",
       "    }\n",
       "</style>\n",
       "<table border=\"1\" class=\"dataframe\">\n",
       "  <thead>\n",
       "    <tr style=\"text-align: right;\">\n",
       "      <th></th>\n",
       "      <th>StockOptionLevel</th>\n",
       "    </tr>\n",
       "  </thead>\n",
       "  <tbody>\n",
       "    <tr>\n",
       "      <th>0</th>\n",
       "      <td>64.32</td>\n",
       "    </tr>\n",
       "    <tr>\n",
       "      <th>1</th>\n",
       "      <td>23.24</td>\n",
       "    </tr>\n",
       "    <tr>\n",
       "      <th>3</th>\n",
       "      <td>7.03</td>\n",
       "    </tr>\n",
       "    <tr>\n",
       "      <th>2</th>\n",
       "      <td>5.41</td>\n",
       "    </tr>\n",
       "  </tbody>\n",
       "</table>\n",
       "</div>"
      ],
      "text/plain": [
       "   StockOptionLevel\n",
       "0             64.32\n",
       "1             23.24\n",
       "3              7.03\n",
       "2              5.41"
      ]
     },
     "execution_count": 500,
     "metadata": {},
     "output_type": "execute_result"
    }
   ],
   "source": [
    "print('Stock Option Level for people who leaved')\n",
    "round(df[df['Attrition'] == 'Yes']['StockOptionLevel'].value_counts(normalize=True).to_frame() * 100,2)"
   ]
  },
  {
   "cell_type": "markdown",
   "metadata": {},
   "source": [
    "most of People who are leaving are holding zero stock option."
   ]
  },
  {
   "cell_type": "markdown",
   "metadata": {},
   "source": [
    "### Performance Rating Variable"
   ]
  },
  {
   "cell_type": "code",
   "execution_count": 498,
   "metadata": {},
   "outputs": [
    {
     "data": {
      "text/plain": [
       "3.0    0.837447\n",
       "4.0    0.162553\n",
       "Name: PerformanceRating, dtype: float64"
      ]
     },
     "execution_count": 498,
     "metadata": {},
     "output_type": "execute_result"
    }
   ],
   "source": [
    "df['PerformanceRating'].value_counts(normalize=True)"
   ]
  },
  {
   "cell_type": "code",
   "execution_count": 497,
   "metadata": {
    "scrolled": true
   },
   "outputs": [
    {
     "data": {
      "text/plain": [
       "3.0    0.815217\n",
       "4.0    0.184783\n",
       "Name: PerformanceRating, dtype: float64"
      ]
     },
     "execution_count": 497,
     "metadata": {},
     "output_type": "execute_result"
    }
   ],
   "source": [
    "df[df['Attrition'] == 'Yes']['PerformanceRating'].value_counts(normalize=True)"
   ]
  },
  {
   "cell_type": "code",
   "execution_count": 485,
   "metadata": {},
   "outputs": [
    {
     "data": {
      "text/plain": [
       "3    690\n",
       "2    295\n",
       "4    124\n",
       "1     67\n",
       "Name: JobInvolvement, dtype: int64"
      ]
     },
     "execution_count": 485,
     "metadata": {},
     "output_type": "execute_result"
    }
   ],
   "source": [
    "df['JobInvolvement'].value_counts()"
   ]
  },
  {
   "cell_type": "code",
   "execution_count": 486,
   "metadata": {},
   "outputs": [
    {
     "data": {
      "text/plain": [
       "2.0    432\n",
       "1.0    430\n",
       "3.0    172\n",
       "4.0     84\n",
       "5.0     57\n",
       "Name: JobLevel, dtype: int64"
      ]
     },
     "execution_count": 486,
     "metadata": {},
     "output_type": "execute_result"
    }
   ],
   "source": [
    "df['JobLevel'].value_counts()"
   ]
  },
  {
   "cell_type": "code",
   "execution_count": 487,
   "metadata": {},
   "outputs": [
    {
     "data": {
      "text/plain": [
       "Sales Executive              263\n",
       "Research Scientist           220\n",
       "Laboratory Technician        209\n",
       "Manufacturing Director       122\n",
       "Healthcare Representative    108\n",
       "Manager                       79\n",
       "Sales Representative          67\n",
       "Research Director             65\n",
       "Human Resources               43\n",
       "Name: JobRole, dtype: int64"
      ]
     },
     "execution_count": 487,
     "metadata": {},
     "output_type": "execute_result"
    }
   ],
   "source": [
    "df['JobRole'].value_counts()"
   ]
  },
  {
   "cell_type": "markdown",
   "metadata": {},
   "source": [
    "### Years related Variables"
   ]
  },
  {
   "cell_type": "markdown",
   "metadata": {},
   "source": [
    "#### TotalWorkingYears, YearsAtCompany and YearsInCurrentRole"
   ]
  },
  {
   "cell_type": "code",
   "execution_count": 531,
   "metadata": {},
   "outputs": [
    {
     "data": {
      "image/png": "[encoded data removed]",
      "text/plain": [
       "<Figure size 432x288 with 1 Axes>"
      ]
     },
     "metadata": {
      "needs_background": "light"
     },
     "output_type": "display_data"
    }
   ],
   "source": [
    "df.boxplot(column=['TotalWorkingYears'],by='Attrition')\n",
    "plt.show()"
   ]
  },
  {
   "cell_type": "code",
   "execution_count": 533,
   "metadata": {},
   "outputs": [
    {
     "data": {
      "image/png": "[encoded data removed]",
      "text/plain": [
       "<Figure size 432x288 with 1 Axes>"
      ]
     },
     "metadata": {
      "needs_background": "light"
     },
     "output_type": "display_data"
    }
   ],
   "source": [
    "df.boxplot(column=['YearsAtCompany'],by='Attrition')\n",
    "plt.show()"
   ]
  },
  {
   "cell_type": "code",
   "execution_count": 534,
   "metadata": {},
   "outputs": [
    {
     "data": {
      "image/png": "[encoded data removed]",
      "text/plain": [
       "<Figure size 432x288 with 1 Axes>"
      ]
     },
     "metadata": {
      "needs_background": "light"
     },
     "output_type": "display_data"
    }
   ],
   "source": [
    "df.boxplot(column=['YearsInCurrentRole'],by='Attrition')\n",
    "plt.show()"
   ]
  },
  {
   "cell_type": "markdown",
   "metadata": {},
   "source": [
    "From three boxplot above, we can see that Average of TotalWorkingYears, YearsAtCompany, YearsInCurrentRole for people who leave company are lower than people who stay."
   ]
  },
  {
   "cell_type": "markdown",
   "metadata": {},
   "source": [
    "#### Training Times Last Year"
   ]
  },
  {
   "cell_type": "code",
   "execution_count": 540,
   "metadata": {},
   "outputs": [
    {
     "data": {
      "text/html": [
       "<div>\n",
       "<style scoped>\n",
       "    .dataframe tbody tr th:only-of-type {\n",
       "        vertical-align: middle;\n",
       "    }\n",
       "\n",
       "    .dataframe tbody tr th {\n",
       "        vertical-align: top;\n",
       "    }\n",
       "\n",
       "    .dataframe thead th {\n",
       "        text-align: right;\n",
       "    }\n",
       "</style>\n",
       "<table border=\"1\" class=\"dataframe\">\n",
       "  <thead>\n",
       "    <tr style=\"text-align: right;\">\n",
       "      <th></th>\n",
       "      <th>count</th>\n",
       "      <th>mean</th>\n",
       "      <th>std</th>\n",
       "      <th>min</th>\n",
       "      <th>25%</th>\n",
       "      <th>50%</th>\n",
       "      <th>75%</th>\n",
       "      <th>max</th>\n",
       "    </tr>\n",
       "    <tr>\n",
       "      <th>Attrition</th>\n",
       "      <th></th>\n",
       "      <th></th>\n",
       "      <th></th>\n",
       "      <th></th>\n",
       "      <th></th>\n",
       "      <th></th>\n",
       "      <th></th>\n",
       "      <th></th>\n",
       "    </tr>\n",
       "  </thead>\n",
       "  <tbody>\n",
       "    <tr>\n",
       "      <th>No</th>\n",
       "      <td>991.0</td>\n",
       "      <td>2.847629</td>\n",
       "      <td>1.312716</td>\n",
       "      <td>0.0</td>\n",
       "      <td>2.0</td>\n",
       "      <td>3.0</td>\n",
       "      <td>3.0</td>\n",
       "      <td>6.0</td>\n",
       "    </tr>\n",
       "    <tr>\n",
       "      <th>Yes</th>\n",
       "      <td>185.0</td>\n",
       "      <td>2.605405</td>\n",
       "      <td>1.264470</td>\n",
       "      <td>0.0</td>\n",
       "      <td>2.0</td>\n",
       "      <td>2.0</td>\n",
       "      <td>3.0</td>\n",
       "      <td>6.0</td>\n",
       "    </tr>\n",
       "  </tbody>\n",
       "</table>\n",
       "</div>"
      ],
      "text/plain": [
       "           count      mean       std  min  25%  50%  75%  max\n",
       "Attrition                                                    \n",
       "No         991.0  2.847629  1.312716  0.0  2.0  3.0  3.0  6.0\n",
       "Yes        185.0  2.605405  1.264470  0.0  2.0  2.0  3.0  6.0"
      ]
     },
     "execution_count": 540,
     "metadata": {},
     "output_type": "execute_result"
    }
   ],
   "source": [
    "df['TrainingTimesLastYear'].groupby(df['Attrition']).describe()"
   ]
  },
  {
   "cell_type": "code",
   "execution_count": 548,
   "metadata": {},
   "outputs": [
    {
     "data": {
      "text/plain": [
       "Ttest_indResult(statistic=-2.317040698690393, pvalue=0.020672895900133045)"
      ]
     },
     "execution_count": 548,
     "metadata": {},
     "output_type": "execute_result"
    }
   ],
   "source": [
    "from scipy.stats import ttest_ind\n",
    "ttest_ind(df[df['Attrition'] == 'Yes']['TrainingTimesLastYear'],\n",
    "          df[df['Attrition'] == 'No']['TrainingTimesLastYear'])"
   ]
  },
  {
   "cell_type": "markdown",
   "metadata": {},
   "source": [
    "The average training times last year for people who leave company slightly lower than people who stay. And from the T-test, we can see that there is a significant difference for training times last year for people who leave and stay."
   ]
  },
  {
   "cell_type": "markdown",
   "metadata": {},
   "source": [
    "#### YearsWithCurrManager"
   ]
  },
  {
   "cell_type": "code",
   "execution_count": 542,
   "metadata": {},
   "outputs": [
    {
     "data": {
      "text/html": [
       "<div>\n",
       "<style scoped>\n",
       "    .dataframe tbody tr th:only-of-type {\n",
       "        vertical-align: middle;\n",
       "    }\n",
       "\n",
       "    .dataframe tbody tr th {\n",
       "        vertical-align: top;\n",
       "    }\n",
       "\n",
       "    .dataframe thead th {\n",
       "        text-align: right;\n",
       "    }\n",
       "</style>\n",
       "<table border=\"1\" class=\"dataframe\">\n",
       "  <thead>\n",
       "    <tr style=\"text-align: right;\">\n",
       "      <th></th>\n",
       "      <th>count</th>\n",
       "      <th>mean</th>\n",
       "      <th>std</th>\n",
       "      <th>min</th>\n",
       "      <th>25%</th>\n",
       "      <th>50%</th>\n",
       "      <th>75%</th>\n",
       "      <th>max</th>\n",
       "    </tr>\n",
       "    <tr>\n",
       "      <th>Attrition</th>\n",
       "      <th></th>\n",
       "      <th></th>\n",
       "      <th></th>\n",
       "      <th></th>\n",
       "      <th></th>\n",
       "      <th></th>\n",
       "      <th></th>\n",
       "      <th></th>\n",
       "    </tr>\n",
       "  </thead>\n",
       "  <tbody>\n",
       "    <tr>\n",
       "      <th>No</th>\n",
       "      <td>991.0</td>\n",
       "      <td>4.523713</td>\n",
       "      <td>7.710886</td>\n",
       "      <td>0.0</td>\n",
       "      <td>2.0</td>\n",
       "      <td>3.0</td>\n",
       "      <td>7.0</td>\n",
       "      <td>219.0</td>\n",
       "    </tr>\n",
       "    <tr>\n",
       "      <th>Yes</th>\n",
       "      <td>185.0</td>\n",
       "      <td>2.735135</td>\n",
       "      <td>3.062769</td>\n",
       "      <td>0.0</td>\n",
       "      <td>0.0</td>\n",
       "      <td>2.0</td>\n",
       "      <td>4.0</td>\n",
       "      <td>14.0</td>\n",
       "    </tr>\n",
       "  </tbody>\n",
       "</table>\n",
       "</div>"
      ],
      "text/plain": [
       "           count      mean       std  min  25%  50%  75%    max\n",
       "Attrition                                                      \n",
       "No         991.0  4.523713  7.710886  0.0  2.0  3.0  7.0  219.0\n",
       "Yes        185.0  2.735135  3.062769  0.0  0.0  2.0  4.0   14.0"
      ]
     },
     "execution_count": 542,
     "metadata": {},
     "output_type": "execute_result"
    }
   ],
   "source": [
    "df['YearsWithCurrManager'].groupby(df['Attrition']).describe()"
   ]
  },
  {
   "cell_type": "code",
   "execution_count": 547,
   "metadata": {},
   "outputs": [
    {
     "data": {
      "text/plain": [
       "Ttest_indResult(statistic=-3.1085894755234524, pvalue=0.0019250323046365848)"
      ]
     },
     "execution_count": 547,
     "metadata": {},
     "output_type": "execute_result"
    }
   ],
   "source": [
    "ttest_ind(df[df['Attrition'] == 'Yes']['YearsWithCurrManager'],\n",
    "          df[df['Attrition'] == 'No']['YearsWithCurrManager'])"
   ]
  },
  {
   "cell_type": "markdown",
   "metadata": {},
   "source": [
    "The average YearsWithCurrManager for people who leave company are significant lower than people who stay. And from the T-test, we can see that there is a significant difference for YearsWithCurrManager for people who leave and stay."
   ]
  },
  {
   "cell_type": "markdown",
   "metadata": {},
   "source": [
    "#### YearsSinceLastPromotion"
   ]
  },
  {
   "cell_type": "code",
   "execution_count": 549,
   "metadata": {},
   "outputs": [
    {
     "data": {
      "text/html": [
       "<div>\n",
       "<style scoped>\n",
       "    .dataframe tbody tr th:only-of-type {\n",
       "        vertical-align: middle;\n",
       "    }\n",
       "\n",
       "    .dataframe tbody tr th {\n",
       "        vertical-align: top;\n",
       "    }\n",
       "\n",
       "    .dataframe thead th {\n",
       "        text-align: right;\n",
       "    }\n",
       "</style>\n",
       "<table border=\"1\" class=\"dataframe\">\n",
       "  <thead>\n",
       "    <tr style=\"text-align: right;\">\n",
       "      <th></th>\n",
       "      <th>count</th>\n",
       "      <th>mean</th>\n",
       "      <th>std</th>\n",
       "      <th>min</th>\n",
       "      <th>25%</th>\n",
       "      <th>50%</th>\n",
       "      <th>75%</th>\n",
       "      <th>max</th>\n",
       "    </tr>\n",
       "    <tr>\n",
       "      <th>Attrition</th>\n",
       "      <th></th>\n",
       "      <th></th>\n",
       "      <th></th>\n",
       "      <th></th>\n",
       "      <th></th>\n",
       "      <th></th>\n",
       "      <th></th>\n",
       "      <th></th>\n",
       "    </tr>\n",
       "  </thead>\n",
       "  <tbody>\n",
       "    <tr>\n",
       "      <th>No</th>\n",
       "      <td>990.0</td>\n",
       "      <td>2.193939</td>\n",
       "      <td>3.205588</td>\n",
       "      <td>0.0</td>\n",
       "      <td>0.0</td>\n",
       "      <td>1.0</td>\n",
       "      <td>3.0</td>\n",
       "      <td>15.0</td>\n",
       "    </tr>\n",
       "    <tr>\n",
       "      <th>Yes</th>\n",
       "      <td>185.0</td>\n",
       "      <td>1.756757</td>\n",
       "      <td>3.045001</td>\n",
       "      <td>0.0</td>\n",
       "      <td>0.0</td>\n",
       "      <td>1.0</td>\n",
       "      <td>2.0</td>\n",
       "      <td>15.0</td>\n",
       "    </tr>\n",
       "  </tbody>\n",
       "</table>\n",
       "</div>"
      ],
      "text/plain": [
       "           count      mean       std  min  25%  50%  75%   max\n",
       "Attrition                                                     \n",
       "No         990.0  2.193939  3.205588  0.0  0.0  1.0  3.0  15.0\n",
       "Yes        185.0  1.756757  3.045001  0.0  0.0  1.0  2.0  15.0"
      ]
     },
     "execution_count": 549,
     "metadata": {},
     "output_type": "execute_result"
    }
   ],
   "source": [
    "df['YearsSinceLastPromotion'].groupby(df['Attrition']).describe()"
   ]
  },
  {
   "cell_type": "markdown",
   "metadata": {},
   "source": [
    "The average of YearsSinceLastPromotion also lower for people who leave company than people who stay"
   ]
  },
  {
   "cell_type": "markdown",
   "metadata": {},
   "source": [
    "## Association Rule Analysis"
   ]
  },
  {
   "cell_type": "markdown",
   "metadata": {},
   "source": [
    "### Data Preparation for Arule"
   ]
  },
  {
   "cell_type": "markdown",
   "metadata": {},
   "source": [
    "Based on interesting points we found on EDA part, we will doing some feature transformation to prepare data for association rule analysis."
   ]
  },
  {
   "cell_type": "markdown",
   "metadata": {},
   "source": [
    "#### Age variable to categorical\n",
    "\n",
    "step1 = df[df['Age'] >= 18]\n",
    "Age1 = step1[step1['Age'] < 25]\n",
    "\n",
    "step2 = df[df['Age'] >= 25]\n",
    "Age2 = step2[step2['Age'] < 32]\n",
    "\n",
    "step3 = df[df['Age'] >= 32]\n",
    "Age3 = step3[step3['Age'] < 37]\n",
    "\n",
    "step4 = df[df['Age'] >= 37]\n",
    "Age4 = step4[step4['Age'] < 44]\n",
    "\n",
    "step5 = df[df['Age'] >= 44]\n",
    "Age5 = step5[step5['Age'] < 60]"
   ]
  },
  {
   "cell_type": "code",
   "execution_count": 559,
   "metadata": {},
   "outputs": [],
   "source": [
    "def age(data):\n",
    "    if data >= 18 and data < 25:\n",
    "        return 'Age 18 - 25'\n",
    "    elif data>=25 and data < 32:\n",
    "        return 'Age 25 - 32'\n",
    "    elif data >= 32 and data <37:\n",
    "        return 'Age 32 - 37'\n",
    "    elif data >= 37 and data < 44:\n",
    "        return 'Age 37 - 44'\n",
    "    elif data >= 44 and data < 60:\n",
    "        return 'Age 44 - 60'\n",
    "df['Age_c'] = df['Age'].apply(lambda x: age(x))"
   ]
  },
  {
   "cell_type": "markdown",
   "metadata": {},
   "source": [
    "#### Daily Rate\n",
    "by EDA, we roughtly sperate into three groups:\n",
    "* low daily rate: 0 - 500\n",
    "* high daily rate: 500 - 1500\n",
    "* extremly high daily rate: 1500 - max"
   ]
  },
  {
   "cell_type": "code",
   "execution_count": 560,
   "metadata": {},
   "outputs": [],
   "source": [
    "def DR(data):\n",
    "    if data < 500:\n",
    "        return 'low daily rate'\n",
    "    elif data >= 500 and data < 1500:\n",
    "        return 'high daily rate'\n",
    "    elif data >= 1500:\n",
    "        return 'extremly high daily rate'\n",
    "df['DailyRate_c'] = df['DailyRate'].apply(lambda x: DR(x))"
   ]
  },
  {
   "cell_type": "markdown",
   "metadata": {},
   "source": [
    "#### Hourly Rate\n",
    "* hourly rate 0 - 45\n",
    "* hourly rate 45 - 75\n",
    "* hourly rate 75 - 95\n",
    "* hourly beyond 95"
   ]
  },
  {
   "cell_type": "code",
   "execution_count": 562,
   "metadata": {},
   "outputs": [],
   "source": [
    "def HR(data):\n",
    "    if data < 45:\n",
    "        return 'hourly rate 0 - 45'\n",
    "    elif data >= 45 and data < 75:\n",
    "        return 'hourly rate 45 - 75'\n",
    "    elif data >= 75 and data < 95:\n",
    "        return 'hourly rate 75 - 95'\n",
    "    elif data >= 95:\n",
    "        return 'hourly beyond 95'\n",
    "df['HourlyRate_c'] = df['HourlyRate'].apply(lambda x: HR(x))"
   ]
  },
  {
   "cell_type": "markdown",
   "metadata": {},
   "source": [
    "#### Distance From Home \n",
    "* close: 0 - 10\n",
    "* median distance: 10 - 30\n",
    "* far: 30 - max"
   ]
  },
  {
   "cell_type": "code",
   "execution_count": 566,
   "metadata": {},
   "outputs": [],
   "source": [
    "def dfh(data):\n",
    "    if data < 10:\n",
    "        return 'close'\n",
    "    elif data >= 10 and data < 30:\n",
    "        return 'median distance'\n",
    "    elif data >= 30:\n",
    "        return 'far'\n",
    "df['DistanceFromHome_c'] = df['DistanceFromHome'].apply(lambda x: dfh(x))"
   ]
  },
  {
   "cell_type": "markdown",
   "metadata": {},
   "source": [
    "#### Month Income\n",
    "* low income: less than 4500\n",
    "* fair high: greater than 4500"
   ]
  },
  {
   "cell_type": "code",
   "execution_count": 568,
   "metadata": {},
   "outputs": [],
   "source": [
    "def mi(data):\n",
    "    if data <= 4500:\n",
    "        return 'low income'\n",
    "    else:\n",
    "        return 'fair high'\n",
    "df['MonthlyIncome_c'] = df['MonthlyIncome'].apply(lambda x: mi(x))"
   ]
  },
  {
   "cell_type": "markdown",
   "metadata": {},
   "source": [
    "#### Stock Option level\n",
    "* no: level = 0\n",
    "* yes: level > 0"
   ]
  },
  {
   "cell_type": "code",
   "execution_count": 603,
   "metadata": {},
   "outputs": [],
   "source": [
    "def sol(data):\n",
    "    if data == 0:\n",
    "        return 'Stock Option No'\n",
    "    else:\n",
    "        return 'Stock Option Yes'\n",
    "df['StockOptionLevel_c'] = df['StockOptionLevel'].apply(lambda x: sol(x))"
   ]
  },
  {
   "cell_type": "markdown",
   "metadata": {},
   "source": [
    "#### other numerical variables"
   ]
  },
  {
   "cell_type": "code",
   "execution_count": 688,
   "metadata": {},
   "outputs": [],
   "source": [
    "def pfr(data):\n",
    "    if data == 3:\n",
    "        return '3_PerformanceRating'\n",
    "    elif data == 4:\n",
    "        return '4_PerformanceRating'\n",
    "df['PerformanceRating_c'] = df['PerformanceRating'].apply(lambda x: pfr(x))"
   ]
  },
  {
   "cell_type": "code",
   "execution_count": 692,
   "metadata": {},
   "outputs": [],
   "source": [
    "df['JobInvolvement_'] = df['JobInvolvement'].apply(lambda x: 'JobInvolvement_' + str(x))\n",
    "df['JobLevel_'] = df['JobLevel'].apply(lambda x: 'JobLevel_' + str(x))\n",
    "df['TotalWorkingYears_'] = pd.qcut(df.TotalWorkingYears, 3,\n",
    "                                   labels=['TotalWorkingYears_low','TotalWorkingYears_med','TotalWorkingYears_high'])\n",
    "\n",
    "df['JobInvolvement_'] = df['JobInvolvement'].apply(lambda x: 'JobInvolvement_' + str(x))\n",
    "df['JobLevel_'] = df['JobLevel'].apply(lambda x: 'JobLevel_' + str(x))\n",
    "\n",
    "df['YearsInCurrentRole_'] = pd.qcut(df.YearsInCurrentRole, 3,\n",
    "                                   labels=['YearsInCurrentRole_low','YearsInCurrentRole_med','YearsInCurrentRole_high'])\n",
    "\n",
    "df['TrainingTimesLastYear_'] = pd.qcut(df.TrainingTimesLastYear, 3,\n",
    "                                   labels=['TrainingTimesLastYear_low','TrainingTimesLastYear_med','TrainingTimesLastYear_high'])"
   ]
  },
  {
   "cell_type": "code",
   "execution_count": 697,
   "metadata": {},
   "outputs": [],
   "source": [
    "df['YearsWithCurrManager_'] = pd.qcut(df.YearsWithCurrManager, 3,\n",
    "                                   labels=['YearsWithCurrManager_low','YearsWithCurrManager_med','YearsWithCurrManager_high'])"
   ]
  },
  {
   "cell_type": "markdown",
   "metadata": {},
   "source": [
    "### Association Rule"
   ]
  },
  {
   "cell_type": "code",
   "execution_count": 592,
   "metadata": {},
   "outputs": [],
   "source": [
    "from mlxtend.frequent_patterns import apriori, association_rules \n",
    "import apyori as ap\n",
    "from mlxtend.preprocessing import TransactionEncoder\n",
    "from mlxtend.frequent_patterns import association_rules"
   ]
  },
  {
   "cell_type": "code",
   "execution_count": 700,
   "metadata": {},
   "outputs": [],
   "source": [
    "df1 = df[['Age_c','DailyRate_c','HourlyRate_c','DistanceFromHome_c',\n",
    "          'MonthlyIncome_c','StockOptionLevel_c','Attrition','Department',\n",
    "          'Education','EnvironmentSatisfaction','Gender','JobSatisfaction',\n",
    "          'MaritalStatus','OverTime','RelationshipSatisfaction','PerformanceRating_c','TotalWorkingYears_',\n",
    "          'YearsAtCompany_','YearsInCurrentRole_','TrainingTimesLastYear_','YearsWithCurrManager_']].dropna()"
   ]
  },
  {
   "cell_type": "code",
   "execution_count": 709,
   "metadata": {},
   "outputs": [],
   "source": [
    "df1['Attrition'] = df1['Attrition'].apply(lambda x: 'Attrition_' + str(x))\n",
    "df1['Education'] = df1['Education'].apply(lambda x: 'Education_' + str(x))\n",
    "df1['EnvironmentSatisfaction'] = df1['EnvironmentSatisfaction'].apply(lambda x: 'EnvironmentSatisfaction_' + str(x))\n",
    "df1['JobSatisfaction'] = df1['JobSatisfaction'].apply(lambda x: 'JobSatisfaction_' + str(x))\n",
    "df1['OverTime'] = df1['OverTime'].apply(lambda x: 'OverTime_' + str(x))\n",
    "df1['RelationshipSatisfaction'] = df1['RelationshipSatisfaction'].apply(lambda x: 'RelationshipSatisfaction_' + str(x))"
   ]
  },
  {
   "cell_type": "code",
   "execution_count": 714,
   "metadata": {},
   "outputs": [
    {
     "data": {
      "text/plain": [
       "[RelationRecord(items=frozenset({'4_PerformanceRating'}), support=0.16351118760757316, ordered_statistics=[OrderedStatistic(items_base=frozenset(), items_add=frozenset({'4_PerformanceRating'}), confidence=0.16351118760757316, lift=1.0)]),\n",
       " RelationRecord(items=frozenset({'Age 25 - 32'}), support=0.24268502581755594, ordered_statistics=[OrderedStatistic(items_base=frozenset(), items_add=frozenset({'Age 25 - 32'}), confidence=0.24268502581755594, lift=1.0)]),\n",
       " RelationRecord(items=frozenset({'Age 32 - 37'}), support=0.2314974182444062, ordered_statistics=[OrderedStatistic(items_base=frozenset(), items_add=frozenset({'Age 32 - 37'}), confidence=0.2314974182444062, lift=1.0)]),\n",
       " RelationRecord(items=frozenset({'Age 37 - 44'}), support=0.23235800344234078, ordered_statistics=[OrderedStatistic(items_base=frozenset(), items_add=frozenset({'Age 37 - 44'}), confidence=0.23235800344234078, lift=1.0)])]"
      ]
     },
     "execution_count": 714,
     "metadata": {},
     "output_type": "execute_result"
    }
   ],
   "source": [
    "records = []\n",
    "for i in range(0,len(df1)):\n",
    "    records.append([str(df1.values[i,j])\n",
    "    for j in range(0, len(df1.columns))])\n",
    "#     for j in range(len(df1.columns)):\n",
    "#         records.append([str(df1.values[i,j])])\n",
    "frequent_itemset = ap.apriori(records)\n",
    "results = list(frequent_itemset)\n",
    "len(results)\n",
    "results[1:5]"
   ]
  },
  {
   "cell_type": "code",
   "execution_count": 724,
   "metadata": {},
   "outputs": [
    {
     "data": {
      "text/html": [
       "<div>\n",
       "<style scoped>\n",
       "    .dataframe tbody tr th:only-of-type {\n",
       "        vertical-align: middle;\n",
       "    }\n",
       "\n",
       "    .dataframe tbody tr th {\n",
       "        vertical-align: top;\n",
       "    }\n",
       "\n",
       "    .dataframe thead th {\n",
       "        text-align: right;\n",
       "    }\n",
       "</style>\n",
       "<table border=\"1\" class=\"dataframe\">\n",
       "  <thead>\n",
       "    <tr style=\"text-align: right;\">\n",
       "      <th></th>\n",
       "      <th>antecedents</th>\n",
       "      <th>consequents</th>\n",
       "      <th>antecedent support</th>\n",
       "      <th>consequent support</th>\n",
       "      <th>support</th>\n",
       "      <th>confidence</th>\n",
       "      <th>lift</th>\n",
       "      <th>leverage</th>\n",
       "      <th>conviction</th>\n",
       "    </tr>\n",
       "  </thead>\n",
       "  <tbody>\n",
       "    <tr>\n",
       "      <th>2</th>\n",
       "      <td>(3_PerformanceRating)</td>\n",
       "      <td>(Attrition_No)</td>\n",
       "      <td>0.836489</td>\n",
       "      <td>0.842513</td>\n",
       "      <td>0.708262</td>\n",
       "      <td>0.846708</td>\n",
       "      <td>1.004979</td>\n",
       "      <td>0.003509</td>\n",
       "      <td>1.027365</td>\n",
       "    </tr>\n",
       "    <tr>\n",
       "      <th>3</th>\n",
       "      <td>(Attrition_No)</td>\n",
       "      <td>(3_PerformanceRating)</td>\n",
       "      <td>0.842513</td>\n",
       "      <td>0.836489</td>\n",
       "      <td>0.708262</td>\n",
       "      <td>0.840654</td>\n",
       "      <td>1.004979</td>\n",
       "      <td>0.003509</td>\n",
       "      <td>1.026138</td>\n",
       "    </tr>\n",
       "    <tr>\n",
       "      <th>6</th>\n",
       "      <td>(Education_4)</td>\n",
       "      <td>(3_PerformanceRating)</td>\n",
       "      <td>0.265921</td>\n",
       "      <td>0.836489</td>\n",
       "      <td>0.228055</td>\n",
       "      <td>0.857605</td>\n",
       "      <td>1.025244</td>\n",
       "      <td>0.005615</td>\n",
       "      <td>1.148294</td>\n",
       "    </tr>\n",
       "    <tr>\n",
       "      <th>10</th>\n",
       "      <td>(EnvironmentSatisfaction_4)</td>\n",
       "      <td>(3_PerformanceRating)</td>\n",
       "      <td>0.297762</td>\n",
       "      <td>0.836489</td>\n",
       "      <td>0.253873</td>\n",
       "      <td>0.852601</td>\n",
       "      <td>1.019262</td>\n",
       "      <td>0.004798</td>\n",
       "      <td>1.109311</td>\n",
       "    </tr>\n",
       "    <tr>\n",
       "      <th>14</th>\n",
       "      <td>(JobSatisfaction_3)</td>\n",
       "      <td>(3_PerformanceRating)</td>\n",
       "      <td>0.302926</td>\n",
       "      <td>0.836489</td>\n",
       "      <td>0.261618</td>\n",
       "      <td>0.863636</td>\n",
       "      <td>1.032454</td>\n",
       "      <td>0.008224</td>\n",
       "      <td>1.199082</td>\n",
       "    </tr>\n",
       "    <tr>\n",
       "      <th>18</th>\n",
       "      <td>(Male)</td>\n",
       "      <td>(3_PerformanceRating)</td>\n",
       "      <td>0.590361</td>\n",
       "      <td>0.836489</td>\n",
       "      <td>0.496558</td>\n",
       "      <td>0.841108</td>\n",
       "      <td>1.005522</td>\n",
       "      <td>0.002727</td>\n",
       "      <td>1.029070</td>\n",
       "    </tr>\n",
       "    <tr>\n",
       "      <th>19</th>\n",
       "      <td>(3_PerformanceRating)</td>\n",
       "      <td>(Male)</td>\n",
       "      <td>0.836489</td>\n",
       "      <td>0.590361</td>\n",
       "      <td>0.496558</td>\n",
       "      <td>0.593621</td>\n",
       "      <td>1.005522</td>\n",
       "      <td>0.002727</td>\n",
       "      <td>1.008022</td>\n",
       "    </tr>\n",
       "    <tr>\n",
       "      <th>25</th>\n",
       "      <td>(OverTime_Yes)</td>\n",
       "      <td>(3_PerformanceRating)</td>\n",
       "      <td>0.287435</td>\n",
       "      <td>0.836489</td>\n",
       "      <td>0.240964</td>\n",
       "      <td>0.838323</td>\n",
       "      <td>1.002193</td>\n",
       "      <td>0.000527</td>\n",
       "      <td>1.011347</td>\n",
       "    </tr>\n",
       "    <tr>\n",
       "      <th>27</th>\n",
       "      <td>(RelationshipSatisfaction_3.0)</td>\n",
       "      <td>(3_PerformanceRating)</td>\n",
       "      <td>0.310671</td>\n",
       "      <td>0.836489</td>\n",
       "      <td>0.261618</td>\n",
       "      <td>0.842105</td>\n",
       "      <td>1.006714</td>\n",
       "      <td>0.001745</td>\n",
       "      <td>1.035571</td>\n",
       "    </tr>\n",
       "    <tr>\n",
       "      <th>28</th>\n",
       "      <td>(RelationshipSatisfaction_4.0)</td>\n",
       "      <td>(3_PerformanceRating)</td>\n",
       "      <td>0.295181</td>\n",
       "      <td>0.836489</td>\n",
       "      <td>0.251291</td>\n",
       "      <td>0.851312</td>\n",
       "      <td>1.017721</td>\n",
       "      <td>0.004376</td>\n",
       "      <td>1.099693</td>\n",
       "    </tr>\n",
       "  </tbody>\n",
       "</table>\n",
       "</div>"
      ],
      "text/plain": [
       "                       antecedents            consequents  antecedent support  \\\n",
       "2            (3_PerformanceRating)         (Attrition_No)            0.836489   \n",
       "3                   (Attrition_No)  (3_PerformanceRating)            0.842513   \n",
       "6                    (Education_4)  (3_PerformanceRating)            0.265921   \n",
       "10     (EnvironmentSatisfaction_4)  (3_PerformanceRating)            0.297762   \n",
       "14             (JobSatisfaction_3)  (3_PerformanceRating)            0.302926   \n",
       "18                          (Male)  (3_PerformanceRating)            0.590361   \n",
       "19           (3_PerformanceRating)                 (Male)            0.836489   \n",
       "25                  (OverTime_Yes)  (3_PerformanceRating)            0.287435   \n",
       "27  (RelationshipSatisfaction_3.0)  (3_PerformanceRating)            0.310671   \n",
       "28  (RelationshipSatisfaction_4.0)  (3_PerformanceRating)            0.295181   \n",
       "\n",
       "    consequent support   support  confidence      lift  leverage  conviction  \n",
       "2             0.842513  0.708262    0.846708  1.004979  0.003509    1.027365  \n",
       "3             0.836489  0.708262    0.840654  1.004979  0.003509    1.026138  \n",
       "6             0.836489  0.228055    0.857605  1.025244  0.005615    1.148294  \n",
       "10            0.836489  0.253873    0.852601  1.019262  0.004798    1.109311  \n",
       "14            0.836489  0.261618    0.863636  1.032454  0.008224    1.199082  \n",
       "18            0.836489  0.496558    0.841108  1.005522  0.002727    1.029070  \n",
       "19            0.590361  0.496558    0.593621  1.005522  0.002727    1.008022  \n",
       "25            0.836489  0.240964    0.838323  1.002193  0.000527    1.011347  \n",
       "27            0.836489  0.261618    0.842105  1.006714  0.001745    1.035571  \n",
       "28            0.836489  0.251291    0.851312  1.017721  0.004376    1.099693  "
      ]
     },
     "execution_count": 724,
     "metadata": {},
     "output_type": "execute_result"
    }
   ],
   "source": [
    "te = TransactionEncoder()\n",
    "te_ary = te.fit(records).transform(records)\n",
    "df_ar = pd.DataFrame(te_ary, columns=te.columns_)\n",
    "frequent_itemsets = apriori(df_ar, min_support=0.2, use_colnames=True) #,\n",
    "frequent_itemsets.sort_values(by='support', ascending=False).head(10)\n",
    "rules = association_rules(frequent_itemsets,metric='lift')\n",
    "rules.head()\n",
    "rules[(rules['lift']>1) & (rules['confidence'] > 0.5)].head(10)"
   ]
  },
  {
   "cell_type": "code",
   "execution_count": 748,
   "metadata": {},
   "outputs": [],
   "source": [
    "def SupervisedApriori(data,consequent,min_supp,min_conf,min_lift):\n",
    "    frequent_itemsets = apriori(data, min_supp, use_colnames=True)\n",
    "    rules = association_rules(frequent_itemsets, metric=\"confidence\",\n",
    "                              min_threshold = min_conf)\n",
    "    \n",
    "    rules = rules[rules['lift'] > min_lift]\n",
    "    sup_rules = pd.DataFrame()\n",
    "    for i in consequent:\n",
    "        df = rules[rules['consequents'] == {i}]\n",
    "        sup_rules = sup_rules.append(df,ignore_index = True)\n",
    "    return(sup_rules)"
   ]
  },
  {
   "cell_type": "code",
   "execution_count": 760,
   "metadata": {},
   "outputs": [],
   "source": [
    "ar_yes = SupervisedApriori(df_ar, consequent = ['Attrition_Yes'],\n",
    "                  min_supp=0.04, min_conf=0.3,min_lift= 1).sort_values(by='support',ascending =False)"
   ]
  },
  {
   "cell_type": "code",
   "execution_count": 755,
   "metadata": {},
   "outputs": [
    {
     "data": {
      "text/plain": [
       "frozenset({'3_PerformanceRating',\n",
       "           'Male',\n",
       "           'OverTime_No',\n",
       "           'Single',\n",
       "           'Stock Option No'})"
      ]
     },
     "execution_count": 755,
     "metadata": {},
     "output_type": "execute_result"
    }
   ],
   "source": [
    "ar_yes.sort_values(by='confidence')['antecedents'][19248]"
   ]
  },
  {
   "cell_type": "code",
   "execution_count": 763,
   "metadata": {},
   "outputs": [
    {
     "data": {
      "text/html": [
       "<div>\n",
       "<style scoped>\n",
       "    .dataframe tbody tr th:only-of-type {\n",
       "        vertical-align: middle;\n",
       "    }\n",
       "\n",
       "    .dataframe tbody tr th {\n",
       "        vertical-align: top;\n",
       "    }\n",
       "\n",
       "    .dataframe thead th {\n",
       "        text-align: right;\n",
       "    }\n",
       "</style>\n",
       "<table border=\"1\" class=\"dataframe\">\n",
       "  <thead>\n",
       "    <tr style=\"text-align: right;\">\n",
       "      <th></th>\n",
       "      <th>antecedents</th>\n",
       "      <th>consequents</th>\n",
       "      <th>antecedent support</th>\n",
       "      <th>consequent support</th>\n",
       "      <th>support</th>\n",
       "      <th>confidence</th>\n",
       "      <th>lift</th>\n",
       "      <th>leverage</th>\n",
       "      <th>conviction</th>\n",
       "    </tr>\n",
       "  </thead>\n",
       "  <tbody>\n",
       "    <tr>\n",
       "      <th>25</th>\n",
       "      <td>(YearsInCurrentRole_low, TotalWorkingYears_low)</td>\n",
       "      <td>(Attrition_Yes)</td>\n",
       "      <td>0.258176</td>\n",
       "      <td>0.157487</td>\n",
       "      <td>0.077453</td>\n",
       "      <td>0.300000</td>\n",
       "      <td>1.904918</td>\n",
       "      <td>0.036793</td>\n",
       "      <td>1.203590</td>\n",
       "    </tr>\n",
       "    <tr>\n",
       "      <th>130</th>\n",
       "      <td>(YearsWithCurrManager_low, Male, TotalWorkingY...</td>\n",
       "      <td>(Attrition_Yes)</td>\n",
       "      <td>0.135972</td>\n",
       "      <td>0.157487</td>\n",
       "      <td>0.043029</td>\n",
       "      <td>0.316456</td>\n",
       "      <td>2.009407</td>\n",
       "      <td>0.021615</td>\n",
       "      <td>1.232565</td>\n",
       "    </tr>\n",
       "    <tr>\n",
       "      <th>131</th>\n",
       "      <td>(YearsWithCurrManager_low, low income, Male, Y...</td>\n",
       "      <td>(Attrition_Yes)</td>\n",
       "      <td>0.142857</td>\n",
       "      <td>0.157487</td>\n",
       "      <td>0.043029</td>\n",
       "      <td>0.301205</td>\n",
       "      <td>1.912568</td>\n",
       "      <td>0.020531</td>\n",
       "      <td>1.205665</td>\n",
       "    </tr>\n",
       "    <tr>\n",
       "      <th>67</th>\n",
       "      <td>(Stock Option No, high daily rate, YearsAtComp...</td>\n",
       "      <td>(Attrition_Yes)</td>\n",
       "      <td>0.135112</td>\n",
       "      <td>0.157487</td>\n",
       "      <td>0.043029</td>\n",
       "      <td>0.318471</td>\n",
       "      <td>2.022206</td>\n",
       "      <td>0.021751</td>\n",
       "      <td>1.236211</td>\n",
       "    </tr>\n",
       "    <tr>\n",
       "      <th>135</th>\n",
       "      <td>(low income, Stock Option No, TotalWorkingYear...</td>\n",
       "      <td>(Attrition_Yes)</td>\n",
       "      <td>0.098107</td>\n",
       "      <td>0.157487</td>\n",
       "      <td>0.043029</td>\n",
       "      <td>0.438596</td>\n",
       "      <td>2.784968</td>\n",
       "      <td>0.027579</td>\n",
       "      <td>1.500726</td>\n",
       "    </tr>\n",
       "  </tbody>\n",
       "</table>\n",
       "</div>"
      ],
      "text/plain": [
       "                                           antecedents      consequents  \\\n",
       "25     (YearsInCurrentRole_low, TotalWorkingYears_low)  (Attrition_Yes)   \n",
       "130  (YearsWithCurrManager_low, Male, TotalWorkingY...  (Attrition_Yes)   \n",
       "131  (YearsWithCurrManager_low, low income, Male, Y...  (Attrition_Yes)   \n",
       "67   (Stock Option No, high daily rate, YearsAtComp...  (Attrition_Yes)   \n",
       "135  (low income, Stock Option No, TotalWorkingYear...  (Attrition_Yes)   \n",
       "\n",
       "     antecedent support  consequent support   support  confidence      lift  \\\n",
       "25             0.258176            0.157487  0.077453    0.300000  1.904918   \n",
       "130            0.135972            0.157487  0.043029    0.316456  2.009407   \n",
       "131            0.142857            0.157487  0.043029    0.301205  1.912568   \n",
       "67             0.135112            0.157487  0.043029    0.318471  2.022206   \n",
       "135            0.098107            0.157487  0.043029    0.438596  2.784968   \n",
       "\n",
       "     leverage  conviction  \n",
       "25   0.036793    1.203590  \n",
       "130  0.021615    1.232565  \n",
       "131  0.020531    1.205665  \n",
       "67   0.021751    1.236211  \n",
       "135  0.027579    1.500726  "
      ]
     },
     "execution_count": 763,
     "metadata": {},
     "output_type": "execute_result"
    }
   ],
   "source": [
    "ar_yes.sort_values(by='consequent support').head()"
   ]
  },
  {
   "cell_type": "markdown",
   "metadata": {},
   "source": [
    "By top 5 association rule for people who leave, We find out some interesting facts. the top confidence association rule for leaving is people who have low performanceRating, male, single with no stock option, which means no contribution, low performance, and not in relationship. And from the top list association rule by consequent support, it show us that people who stay in company shorter, and just started career(young person) willing to leave."
   ]
  },
  {
   "cell_type": "code",
   "execution_count": 759,
   "metadata": {},
   "outputs": [],
   "source": [
    "ar_no = SupervisedApriori(df_ar, consequent = ['Attrition_No'],\n",
    "                  min_supp=0.04, min_conf=0.3,min_lift= 1).sort_values(by='support',ascending =False)"
   ]
  },
  {
   "cell_type": "code",
   "execution_count": 765,
   "metadata": {},
   "outputs": [
    {
     "data": {
      "text/html": [
       "<div>\n",
       "<style scoped>\n",
       "    .dataframe tbody tr th:only-of-type {\n",
       "        vertical-align: middle;\n",
       "    }\n",
       "\n",
       "    .dataframe tbody tr th {\n",
       "        vertical-align: top;\n",
       "    }\n",
       "\n",
       "    .dataframe thead th {\n",
       "        text-align: right;\n",
       "    }\n",
       "</style>\n",
       "<table border=\"1\" class=\"dataframe\">\n",
       "  <thead>\n",
       "    <tr style=\"text-align: right;\">\n",
       "      <th></th>\n",
       "      <th>antecedents</th>\n",
       "      <th>consequents</th>\n",
       "      <th>antecedent support</th>\n",
       "      <th>consequent support</th>\n",
       "      <th>support</th>\n",
       "      <th>confidence</th>\n",
       "      <th>lift</th>\n",
       "      <th>leverage</th>\n",
       "      <th>conviction</th>\n",
       "    </tr>\n",
       "  </thead>\n",
       "  <tbody>\n",
       "    <tr>\n",
       "      <th>0</th>\n",
       "      <td>(3_PerformanceRating)</td>\n",
       "      <td>(Attrition_No)</td>\n",
       "      <td>0.836489</td>\n",
       "      <td>0.842513</td>\n",
       "      <td>0.708262</td>\n",
       "      <td>0.846708</td>\n",
       "      <td>1.004979</td>\n",
       "      <td>0.003509</td>\n",
       "      <td>1.027365</td>\n",
       "    </tr>\n",
       "    <tr>\n",
       "      <th>14742</th>\n",
       "      <td>(close, Research &amp; Development, RelationshipSa...</td>\n",
       "      <td>(Attrition_No)</td>\n",
       "      <td>0.055077</td>\n",
       "      <td>0.842513</td>\n",
       "      <td>0.046472</td>\n",
       "      <td>0.843750</td>\n",
       "      <td>1.001468</td>\n",
       "      <td>0.000068</td>\n",
       "      <td>1.007917</td>\n",
       "    </tr>\n",
       "    <tr>\n",
       "      <th>13986</th>\n",
       "      <td>(YearsAtCompany_high, YearsWithCurrManager_hig...</td>\n",
       "      <td>(Attrition_No)</td>\n",
       "      <td>0.053356</td>\n",
       "      <td>0.842513</td>\n",
       "      <td>0.046472</td>\n",
       "      <td>0.870968</td>\n",
       "      <td>1.033774</td>\n",
       "      <td>0.001518</td>\n",
       "      <td>1.220525</td>\n",
       "    </tr>\n",
       "    <tr>\n",
       "      <th>22767</th>\n",
       "      <td>(high daily rate, JobSatisfaction_3, Male, fai...</td>\n",
       "      <td>(Attrition_No)</td>\n",
       "      <td>0.050775</td>\n",
       "      <td>0.842513</td>\n",
       "      <td>0.046472</td>\n",
       "      <td>0.915254</td>\n",
       "      <td>1.086339</td>\n",
       "      <td>0.003693</td>\n",
       "      <td>1.858348</td>\n",
       "    </tr>\n",
       "    <tr>\n",
       "      <th>19516</th>\n",
       "      <td>(median distance, Male, Stock Option Yes, Trai...</td>\n",
       "      <td>(Attrition_No)</td>\n",
       "      <td>0.054217</td>\n",
       "      <td>0.842513</td>\n",
       "      <td>0.046472</td>\n",
       "      <td>0.857143</td>\n",
       "      <td>1.017365</td>\n",
       "      <td>0.000793</td>\n",
       "      <td>1.102410</td>\n",
       "    </tr>\n",
       "  </tbody>\n",
       "</table>\n",
       "</div>"
      ],
      "text/plain": [
       "                                             antecedents     consequents  \\\n",
       "0                                  (3_PerformanceRating)  (Attrition_No)   \n",
       "14742  (close, Research & Development, RelationshipSa...  (Attrition_No)   \n",
       "13986  (YearsAtCompany_high, YearsWithCurrManager_hig...  (Attrition_No)   \n",
       "22767  (high daily rate, JobSatisfaction_3, Male, fai...  (Attrition_No)   \n",
       "19516  (median distance, Male, Stock Option Yes, Trai...  (Attrition_No)   \n",
       "\n",
       "       antecedent support  consequent support   support  confidence      lift  \\\n",
       "0                0.836489            0.842513  0.708262    0.846708  1.004979   \n",
       "14742            0.055077            0.842513  0.046472    0.843750  1.001468   \n",
       "13986            0.053356            0.842513  0.046472    0.870968  1.033774   \n",
       "22767            0.050775            0.842513  0.046472    0.915254  1.086339   \n",
       "19516            0.054217            0.842513  0.046472    0.857143  1.017365   \n",
       "\n",
       "       leverage  conviction  \n",
       "0      0.003509    1.027365  \n",
       "14742  0.000068    1.007917  \n",
       "13986  0.001518    1.220525  \n",
       "22767  0.003693    1.858348  \n",
       "19516  0.000793    1.102410  "
      ]
     },
     "execution_count": 765,
     "metadata": {},
     "output_type": "execute_result"
    }
   ],
   "source": [
    "ar_no.sort_values(by='consequent support').head()"
   ]
  },
  {
   "cell_type": "markdown",
   "metadata": {},
   "source": [
    "By looking at association rule for people who stay, we can see that peoeple who stay in company longer, close to company, or holding stock option more likely stay.\n",
    "In general, people who have stronger relationship with company (long time, high salary etc.) more likely to stay."
   ]
  }
 ],
 "metadata": {
  "kernelspec": {
   "display_name": "Python 3",
   "language": "python",
   "name": "python3"
  },
  "language_info": {
   "codemirror_mode": {
    "name": "ipython",
    "version": 3
   },
   "file_extension": ".py",
   "mimetype": "text/x-python",
   "name": "python",
   "nbconvert_exporter": "python",
   "pygments_lexer": "ipython3",
   "version": "3.7.3"
  },
  "toc": {
   "base_numbering": 1,
   "nav_menu": {},
   "number_sections": true,
   "sideBar": true,
   "skip_h1_title": false,
   "title_cell": "Table of Contents",
   "title_sidebar": "Contents",
   "toc_cell": false,
   "toc_position": {
    "height": "calc(100% - 180px)",
    "left": "10px",
    "top": "150px",
    "width": "278.797px"
   },
   "toc_section_display": true,
   "toc_window_display": true
  }
 },
 "nbformat": 4,
 "nbformat_minor": 2
}
